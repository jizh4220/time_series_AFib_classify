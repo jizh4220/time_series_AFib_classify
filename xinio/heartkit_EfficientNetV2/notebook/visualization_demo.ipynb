{
 "cells": [
  {
   "cell_type": "code",
   "execution_count": 2,
   "metadata": {},
   "outputs": [
    {
     "ename": "ImportError",
     "evalue": "cannot import name 'Denoise' from 'heartkit.tasks.denoise' (/home/justinz/heartkit/heartkit/tasks/denoise/__init__.py)",
     "output_type": "error",
     "traceback": [
      "\u001b[0;31m---------------------------------------------------------------------------\u001b[0m",
      "\u001b[0;31mImportError\u001b[0m                               Traceback (most recent call last)",
      "Cell \u001b[0;32mIn[2], line 1\u001b[0m\n\u001b[0;32m----> 1\u001b[0m \u001b[38;5;28;01mfrom\u001b[39;00m \u001b[38;5;21;01mminute_visualization\u001b[39;00m \u001b[38;5;28;01mimport\u001b[39;00m \u001b[38;5;241m*\u001b[39m\n\u001b[1;32m      3\u001b[0m \u001b[38;5;28;01mimport\u001b[39;00m \u001b[38;5;21;01mpickle\u001b[39;00m\n\u001b[1;32m      5\u001b[0m segment_list \u001b[38;5;241m=\u001b[39m \u001b[38;5;28mrange\u001b[39m(\u001b[38;5;241m24\u001b[39m) \u001b[38;5;66;03m# should be within [0, 49]\u001b[39;00m\n",
      "File \u001b[0;32m~/xinio/heartkit_EfficientNetV2/notebook/minute_visualization.py:13\u001b[0m\n\u001b[1;32m     10\u001b[0m \u001b[38;5;28;01mimport\u001b[39;00m \u001b[38;5;21;01mtempfile\u001b[39;00m\n\u001b[1;32m     11\u001b[0m \u001b[38;5;28;01mfrom\u001b[39;00m \u001b[38;5;21;01mpathlib\u001b[39;00m \u001b[38;5;28;01mimport\u001b[39;00m Path\n\u001b[0;32m---> 13\u001b[0m \u001b[38;5;28;01mfrom\u001b[39;00m \u001b[38;5;21;01mheartkit\u001b[39;00m\u001b[38;5;21;01m.\u001b[39;00m\u001b[38;5;21;01mtasks\u001b[39;00m \u001b[38;5;28;01mimport\u001b[39;00m TaskFactory\n\u001b[1;32m     14\u001b[0m \u001b[38;5;28;01mfrom\u001b[39;00m \u001b[38;5;21;01mtyping\u001b[39;00m \u001b[38;5;28;01mimport\u001b[39;00m Type, TypeVar, List, Dict, Any, Literal\n\u001b[1;32m     15\u001b[0m \u001b[38;5;28;01mfrom\u001b[39;00m \u001b[38;5;21;01margdantic\u001b[39;00m \u001b[38;5;28;01mimport\u001b[39;00m ArgField, ArgParser\n",
      "File \u001b[0;32m~/heartkit/heartkit/__init__.py:4\u001b[0m\n\u001b[1;32m      1\u001b[0m \u001b[38;5;28;01mimport\u001b[39;00m \u001b[38;5;21;01mos\u001b[39;00m\n\u001b[1;32m      2\u001b[0m \u001b[38;5;28;01mfrom\u001b[39;00m \u001b[38;5;21;01mimportlib\u001b[39;00m\u001b[38;5;21;01m.\u001b[39;00m\u001b[38;5;21;01mmetadata\u001b[39;00m \u001b[38;5;28;01mimport\u001b[39;00m version\n\u001b[0;32m----> 4\u001b[0m \u001b[38;5;28;01mfrom\u001b[39;00m \u001b[38;5;21;01m.\u001b[39;00m \u001b[38;5;28;01mimport\u001b[39;00m cli, datasets, metrics, models, rpc, tasks, tflite\n\u001b[1;32m      5\u001b[0m \u001b[38;5;28;01mfrom\u001b[39;00m \u001b[38;5;21;01m.\u001b[39;00m\u001b[38;5;21;01mdatasets\u001b[39;00m \u001b[38;5;28;01mimport\u001b[39;00m DatasetFactory, HKDataset\n\u001b[1;32m      6\u001b[0m \u001b[38;5;28;01mfrom\u001b[39;00m \u001b[38;5;21;01m.\u001b[39;00m\u001b[38;5;21;01mdefines\u001b[39;00m \u001b[38;5;28;01mimport\u001b[39;00m (\n\u001b[1;32m      7\u001b[0m     AugmentationParams,\n\u001b[1;32m      8\u001b[0m     DatasetParams,\n\u001b[0;32m   (...)\u001b[0m\n\u001b[1;32m     23\u001b[0m     PreprocessParams,\n\u001b[1;32m     24\u001b[0m )\n",
      "File \u001b[0;32m~/heartkit/heartkit/cli.py:7\u001b[0m\n\u001b[1;32m      4\u001b[0m \u001b[38;5;28;01mfrom\u001b[39;00m \u001b[38;5;21;01margdantic\u001b[39;00m \u001b[38;5;28;01mimport\u001b[39;00m ArgField, ArgParser\n\u001b[1;32m      5\u001b[0m \u001b[38;5;28;01mfrom\u001b[39;00m \u001b[38;5;21;01mpydantic\u001b[39;00m \u001b[38;5;28;01mimport\u001b[39;00m BaseModel\n\u001b[0;32m----> 7\u001b[0m \u001b[38;5;28;01mfrom\u001b[39;00m \u001b[38;5;21;01m.\u001b[39;00m\u001b[38;5;21;01mdatasets\u001b[39;00m \u001b[38;5;28;01mimport\u001b[39;00m download_datasets\n\u001b[1;32m      8\u001b[0m \u001b[38;5;28;01mfrom\u001b[39;00m \u001b[38;5;21;01m.\u001b[39;00m\u001b[38;5;21;01mdefines\u001b[39;00m \u001b[38;5;28;01mimport\u001b[39;00m (\n\u001b[1;32m      9\u001b[0m     HKDemoParams,\n\u001b[1;32m     10\u001b[0m     HKDownloadParams,\n\u001b[0;32m   (...)\u001b[0m\n\u001b[1;32m     14\u001b[0m     HKTrainParams,\n\u001b[1;32m     15\u001b[0m )\n\u001b[1;32m     16\u001b[0m \u001b[38;5;28;01mfrom\u001b[39;00m \u001b[38;5;21;01m.\u001b[39;00m\u001b[38;5;21;01mtasks\u001b[39;00m \u001b[38;5;28;01mimport\u001b[39;00m TaskFactory\n",
      "File \u001b[0;32m~/heartkit/heartkit/datasets/__init__.py:7\u001b[0m\n\u001b[1;32m      5\u001b[0m \u001b[38;5;28;01mfrom\u001b[39;00m \u001b[38;5;21;01m.\u001b[39;00m\u001b[38;5;21;01mfactory\u001b[39;00m \u001b[38;5;28;01mimport\u001b[39;00m DatasetFactory\n\u001b[1;32m      6\u001b[0m \u001b[38;5;28;01mfrom\u001b[39;00m \u001b[38;5;21;01m.\u001b[39;00m\u001b[38;5;21;01micentia11k\u001b[39;00m \u001b[38;5;28;01mimport\u001b[39;00m IcentiaDataset\n\u001b[0;32m----> 7\u001b[0m \u001b[38;5;28;01mfrom\u001b[39;00m \u001b[38;5;21;01m.\u001b[39;00m\u001b[38;5;21;01mlsad\u001b[39;00m \u001b[38;5;28;01mimport\u001b[39;00m LsadDataset\n\u001b[1;32m      8\u001b[0m \u001b[38;5;28;01mfrom\u001b[39;00m \u001b[38;5;21;01m.\u001b[39;00m\u001b[38;5;21;01mludb\u001b[39;00m \u001b[38;5;28;01mimport\u001b[39;00m LudbDataset\n\u001b[1;32m      9\u001b[0m \u001b[38;5;28;01mfrom\u001b[39;00m \u001b[38;5;21;01m.\u001b[39;00m\u001b[38;5;21;01mnstdb\u001b[39;00m \u001b[38;5;28;01mimport\u001b[39;00m NstdbNoise\n",
      "File \u001b[0;32m~/heartkit/heartkit/datasets/lsad.py:17\u001b[0m\n\u001b[1;32m     14\u001b[0m \u001b[38;5;28;01mimport\u001b[39;00m \u001b[38;5;21;01mtensorflow\u001b[39;00m \u001b[38;5;28;01mas\u001b[39;00m \u001b[38;5;21;01mtf\u001b[39;00m\n\u001b[1;32m     15\u001b[0m \u001b[38;5;28;01mfrom\u001b[39;00m \u001b[38;5;21;01mtqdm\u001b[39;00m \u001b[38;5;28;01mimport\u001b[39;00m tqdm\n\u001b[0;32m---> 17\u001b[0m \u001b[38;5;28;01mfrom\u001b[39;00m \u001b[38;5;21;01m.\u001b[39;00m\u001b[38;5;21;01m.\u001b[39;00m\u001b[38;5;21;01mtasks\u001b[39;00m \u001b[38;5;28;01mimport\u001b[39;00m HKDiagnostic, HKRhythm\n\u001b[1;32m     18\u001b[0m \u001b[38;5;28;01mfrom\u001b[39;00m \u001b[38;5;21;01m.\u001b[39;00m\u001b[38;5;21;01m.\u001b[39;00m\u001b[38;5;21;01mutils\u001b[39;00m \u001b[38;5;28;01mimport\u001b[39;00m download_file\n\u001b[1;32m     19\u001b[0m \u001b[38;5;28;01mfrom\u001b[39;00m \u001b[38;5;21;01m.\u001b[39;00m\u001b[38;5;21;01mdataset\u001b[39;00m \u001b[38;5;28;01mimport\u001b[39;00m HKDataset\n",
      "File \u001b[0;32m~/heartkit/heartkit/tasks/__init__.py:5\u001b[0m\n\u001b[1;32m      3\u001b[0m \u001b[38;5;28;01mfrom\u001b[39;00m \u001b[38;5;21;01m.\u001b[39;00m\u001b[38;5;21;01mdenoise\u001b[39;00m \u001b[38;5;28;01mimport\u001b[39;00m DenoiseTask\n\u001b[1;32m      4\u001b[0m \u001b[38;5;28;01mfrom\u001b[39;00m \u001b[38;5;21;01m.\u001b[39;00m\u001b[38;5;21;01mdiagnostic\u001b[39;00m \u001b[38;5;28;01mimport\u001b[39;00m DiagnosticTask, HKDiagnostic\n\u001b[0;32m----> 5\u001b[0m \u001b[38;5;28;01mfrom\u001b[39;00m \u001b[38;5;21;01m.\u001b[39;00m\u001b[38;5;21;01mfactory\u001b[39;00m \u001b[38;5;28;01mimport\u001b[39;00m TaskFactory\n\u001b[1;32m      6\u001b[0m \u001b[38;5;28;01mfrom\u001b[39;00m \u001b[38;5;21;01m.\u001b[39;00m\u001b[38;5;21;01mrhythm\u001b[39;00m \u001b[38;5;28;01mimport\u001b[39;00m HeartRate, HKRhythm, RhythmTask\n\u001b[1;32m      7\u001b[0m \u001b[38;5;28;01mfrom\u001b[39;00m \u001b[38;5;21;01m.\u001b[39;00m\u001b[38;5;21;01msegmentation\u001b[39;00m \u001b[38;5;28;01mimport\u001b[39;00m HKSegment, SegmentationTask\n",
      "File \u001b[0;32m~/heartkit/heartkit/tasks/factory.py:4\u001b[0m\n\u001b[1;32m      2\u001b[0m \u001b[38;5;28;01mfrom\u001b[39;00m \u001b[38;5;21;01m.\u001b[39;00m\u001b[38;5;21;01mAFIB_Ident\u001b[39;00m \u001b[38;5;28;01mimport\u001b[39;00m AFIB_Ident\n\u001b[1;32m      3\u001b[0m \u001b[38;5;28;01mfrom\u001b[39;00m \u001b[38;5;21;01m.\u001b[39;00m\u001b[38;5;21;01mnoise_classify\u001b[39;00m \u001b[38;5;28;01mimport\u001b[39;00m noise_classify\n\u001b[0;32m----> 4\u001b[0m \u001b[38;5;28;01mfrom\u001b[39;00m \u001b[38;5;21;01m.\u001b[39;00m\u001b[38;5;21;01mdenoise\u001b[39;00m \u001b[38;5;28;01mimport\u001b[39;00m Denoise\n\u001b[1;32m      5\u001b[0m \u001b[38;5;28;01mfrom\u001b[39;00m \u001b[38;5;21;01m.\u001b[39;00m\u001b[38;5;21;01msegmentation\u001b[39;00m \u001b[38;5;28;01mimport\u001b[39;00m Segmentation\n\u001b[1;32m      6\u001b[0m \u001b[38;5;28;01mfrom\u001b[39;00m \u001b[38;5;21;01m.\u001b[39;00m\u001b[38;5;21;01mtask\u001b[39;00m \u001b[38;5;28;01mimport\u001b[39;00m HKTask\n",
      "\u001b[0;31mImportError\u001b[0m: cannot import name 'Denoise' from 'heartkit.tasks.denoise' (/home/justinz/heartkit/heartkit/tasks/denoise/__init__.py)"
     ]
    }
   ],
   "source": [
    "from minute_visualization import *\n",
    "\n",
    "import pickle\n",
    "\n",
    "segment_list = range(24) # should be within [0, 49]\n",
    "\n",
    "config = '../configs/AFIB_Ident-100class-2_Official.json'\n",
    "params = parse_content(HKDemoParams, config)\n",
    "os.chdir('../')\n",
    "\n",
    "params.seed = set_random_seed(params.seed)\n",
    "params.data_parallelism = 8\n",
    "params.target_rate = 250\n",
    "params.color_dict = {\n",
    "        -1: \"#505050\",  # Grey color for -1\n",
    "        0: \"#11acd5\",  # Blue color for 0\n",
    "        1: \"#ce6cff\",  # Purple color for 1\n",
    "        2: \"#a1d34f\"   # Green color for 2\n",
    "}\n",
    "\n",
    "BackendRunner = EvbBackend if params.backend == \"evb\" else PcBackend\n",
    "runner = BackendRunner(params=params)\n",
    "\n",
    "class_names = get_class_names(params.num_classes)\n",
    "class_map = get_class_mapping(params.num_classes)\n",
    "input_spec = (\n",
    "    tf.TensorSpec(shape=get_feat_shape(params.frame_size), dtype=tf.float32),\n",
    "    tf.TensorSpec(shape=get_class_shape(params.frame_size, params.num_classes), dtype=tf.int32),\n",
    ")\n",
    "# since now we are getting one minute for every frame so it should be 400 / 100 * 15 = 60 seconds\n",
    "datasets = load_datasets(\n",
    "    ds_path=params.ds_path,\n",
    "    frame_size=params.frame_size * 15,\n",
    "    sampling_rate=params.sampling_rate,\n",
    "    class_map=class_map,\n",
    "    spec=input_spec,\n",
    "    datasets=params.datasets,\n",
    ")\n",
    "\n",
    "\n"
   ]
  },
  {
   "cell_type": "code",
   "execution_count": null,
   "metadata": {},
   "outputs": [
    {
     "ename": "AttributeError",
     "evalue": "'str' object has no attribute 'suffix'",
     "output_type": "error",
     "traceback": [
      "\u001b[0;31m---------------------------------------------------------------------------\u001b[0m",
      "\u001b[0;31mAttributeError\u001b[0m                            Traceback (most recent call last)",
      "Cell \u001b[0;32mIn[2], line 1\u001b[0m\n\u001b[0;32m----> 1\u001b[0m result, fig \u001b[38;5;241m=\u001b[39m \u001b[43mlong_prediction\u001b[49m\u001b[43m(\u001b[49m\u001b[43mdatasets\u001b[49m\u001b[43m,\u001b[49m\u001b[43m \u001b[49m\u001b[43mpatient_idx\u001b[49m\u001b[38;5;241;43m=\u001b[39;49m\u001b[38;5;241;43m9123\u001b[39;49m\u001b[43m,\u001b[49m\u001b[43m \u001b[49m\u001b[43msegment_idx\u001b[49m\u001b[38;5;241;43m=\u001b[39;49m\u001b[38;5;241;43m35\u001b[39;49m\u001b[43m,\u001b[49m\u001b[43m \u001b[49m\u001b[43mminute_idx\u001b[49m\u001b[38;5;241;43m=\u001b[39;49m\u001b[38;5;241;43m31\u001b[39;49m\u001b[43m,\u001b[49m\u001b[43m \u001b[49m\u001b[43mparams\u001b[49m\u001b[38;5;241;43m=\u001b[39;49m\u001b[43mparams\u001b[49m\u001b[43m,\u001b[49m\u001b[43m \u001b[49m\u001b[43mrunner\u001b[49m\u001b[38;5;241;43m=\u001b[39;49m\u001b[43mrunner\u001b[49m\u001b[43m,\u001b[49m\u001b[43m \u001b[49m\u001b[43mplotting\u001b[49m\u001b[38;5;241;43m=\u001b[39;49m\u001b[38;5;28;43;01mTrue\u001b[39;49;00m\u001b[43m,\u001b[49m\u001b[43m \u001b[49m\u001b[43mnoise_filter\u001b[49m\u001b[38;5;241;43m=\u001b[39;49m\u001b[38;5;28;43;01mTrue\u001b[39;49;00m\u001b[43m)\u001b[49m\n\u001b[1;32m      2\u001b[0m \u001b[38;5;28;01mimport\u001b[39;00m \u001b[38;5;21;01mplotly\u001b[39;00m\u001b[38;5;21;01m.\u001b[39;00m\u001b[38;5;21;01mio\u001b[39;00m \u001b[38;5;28;01mas\u001b[39;00m \u001b[38;5;21;01mpio\u001b[39;00m\n\u001b[1;32m      3\u001b[0m \u001b[38;5;28;01mimport\u001b[39;00m \u001b[38;5;21;01mrandom\u001b[39;00m\n",
      "File \u001b[0;32m~/xinio/heartkit_EfficientNetV2/notebook/minute_visualization.py:825\u001b[0m, in \u001b[0;36mlong_prediction\u001b[0;34m(datasets, patient_idx, segment_idx, minute_idx, params, runner, plotting, noise_filter, if_features)\u001b[0m\n\u001b[1;32m    822\u001b[0m sample_meta \u001b[38;5;241m=\u001b[39m [patient_idx, segment_idx, minute_idx]\n\u001b[1;32m    823\u001b[0m \u001b[38;5;66;03m# model = \u001b[39;00m\n\u001b[1;32m    824\u001b[0m \u001b[38;5;66;03m# Perform whole-sample prediction on generated signals/labels\u001b[39;00m\n\u001b[0;32m--> 825\u001b[0m x, y_pred, y_orig, whole_seg_pred \u001b[38;5;241m=\u001b[39m \u001b[43mwhole_sample_predict\u001b[49m\u001b[43m(\u001b[49m\u001b[43mseg_sig_gen\u001b[49m\u001b[43m,\u001b[49m\u001b[43m \u001b[49m\u001b[43mparams\u001b[49m\u001b[43m,\u001b[49m\u001b[43m \u001b[49m\u001b[43mrunner\u001b[49m\u001b[43m,\u001b[49m\u001b[43m \u001b[49m\u001b[43mnoise_filter\u001b[49m\u001b[43m)\u001b[49m\n\u001b[1;32m    826\u001b[0m \u001b[38;5;66;03m# runner.clear()\u001b[39;00m\n\u001b[1;32m    827\u001b[0m \u001b[38;5;66;03m# We should also get the tru AFIB/AFLUT patients from the y_orig\u001b[39;00m\n\u001b[1;32m    828\u001b[0m \u001b[38;5;66;03m# y_orig == 1\u001b[39;00m\n\u001b[1;32m    829\u001b[0m whole_seg_pred \u001b[38;5;241m=\u001b[39m np\u001b[38;5;241m.\u001b[39marray(whole_seg_pred)\n",
      "File \u001b[0;32m~/xinio/heartkit_EfficientNetV2/notebook/minute_visualization.py:570\u001b[0m, in \u001b[0;36mwhole_sample_predict\u001b[0;34m(seg_sig_gen, params, runner, noise_filter)\u001b[0m\n\u001b[1;32m    558\u001b[0m y_pred \u001b[38;5;241m=\u001b[39m np\u001b[38;5;241m.\u001b[39mzeros(x\u001b[38;5;241m.\u001b[39mshape[\u001b[38;5;241m0\u001b[39m], dtype\u001b[38;5;241m=\u001b[39mnp\u001b[38;5;241m.\u001b[39mint32)\n\u001b[1;32m    559\u001b[0m \u001b[38;5;66;03m# print(f\"Updated y_orig here {y_orig}\")\u001b[39;00m\n\u001b[1;32m    560\u001b[0m \u001b[38;5;66;03m# if len(y_orig) == 0:\u001b[39;00m\n\u001b[1;32m    561\u001b[0m \u001b[38;5;66;03m#     print(\"Unidentified label\")\u001b[39;00m\n\u001b[0;32m   (...)\u001b[0m\n\u001b[1;32m    568\u001b[0m \u001b[38;5;66;03m#     y_orig = np.full(x.shape[0], stats.mode(y_orig)[0])\u001b[39;00m\n\u001b[1;32m    569\u001b[0m     \u001b[38;5;66;03m# y_orig = np.full(x.shape[0], np.argmax(np.bincount(y_orig)))\u001b[39;00m\n\u001b[0;32m--> 570\u001b[0m \u001b[43mrunner\u001b[49m\u001b[38;5;241;43m.\u001b[39;49m\u001b[43mopen\u001b[49m\u001b[43m(\u001b[49m\u001b[43m)\u001b[49m\n\u001b[1;32m    572\u001b[0m whole_seg_pred \u001b[38;5;241m=\u001b[39m []\n\u001b[1;32m    573\u001b[0m \u001b[38;5;28mprint\u001b[39m(\u001b[38;5;124mf\u001b[39m\u001b[38;5;124m\"\u001b[39m\u001b[38;5;124mDouble check the \u001b[39m\u001b[38;5;132;01m{\u001b[39;00mx\u001b[38;5;241m.\u001b[39mshape[\u001b[38;5;241m0\u001b[39m]\u001b[38;5;132;01m}\u001b[39;00m\u001b[38;5;124m\"\u001b[39m)\n",
      "File \u001b[0;32m~/heartkit/heartkit/rpc/backends.py:180\u001b[0m, in \u001b[0;36mPcBackend.open\u001b[0;34m(self)\u001b[0m\n\u001b[1;32m    179\u001b[0m \u001b[38;5;28;01mdef\u001b[39;00m \u001b[38;5;21mopen\u001b[39m(\u001b[38;5;28mself\u001b[39m):\n\u001b[0;32m--> 180\u001b[0m     \u001b[38;5;28;01mif\u001b[39;00m \u001b[38;5;28;43mself\u001b[39;49m\u001b[38;5;241;43m.\u001b[39;49m\u001b[43m_is_tf_model\u001b[49m\u001b[43m(\u001b[49m\u001b[43m)\u001b[49m:\n\u001b[1;32m    181\u001b[0m         \u001b[38;5;28mself\u001b[39m\u001b[38;5;241m.\u001b[39m_model \u001b[38;5;241m=\u001b[39m tflite\u001b[38;5;241m.\u001b[39mload_model(\u001b[38;5;28mself\u001b[39m\u001b[38;5;241m.\u001b[39mparams\u001b[38;5;241m.\u001b[39mmodel_file)\n\u001b[1;32m    182\u001b[0m     \u001b[38;5;28;01melse\u001b[39;00m:\n",
      "File \u001b[0;32m~/heartkit/heartkit/rpc/backends.py:176\u001b[0m, in \u001b[0;36mPcBackend._is_tf_model\u001b[0;34m(self)\u001b[0m\n\u001b[1;32m    174\u001b[0m \u001b[38;5;28;01mdef\u001b[39;00m \u001b[38;5;21m_is_tf_model\u001b[39m(\u001b[38;5;28mself\u001b[39m) \u001b[38;5;241m-\u001b[39m\u001b[38;5;241m>\u001b[39m \u001b[38;5;28mbool\u001b[39m:\n\u001b[0;32m--> 176\u001b[0m     ext \u001b[38;5;241m=\u001b[39m \u001b[38;5;28;43mself\u001b[39;49m\u001b[38;5;241;43m.\u001b[39;49m\u001b[43mparams\u001b[49m\u001b[38;5;241;43m.\u001b[39;49m\u001b[43mmodel_file\u001b[49m\u001b[38;5;241;43m.\u001b[39;49m\u001b[43msuffix\u001b[49m\n\u001b[1;32m    177\u001b[0m     \u001b[38;5;28;01mreturn\u001b[39;00m ext \u001b[38;5;129;01min\u001b[39;00m [\u001b[38;5;124m\"\u001b[39m\u001b[38;5;124m.h5\u001b[39m\u001b[38;5;124m\"\u001b[39m, \u001b[38;5;124m\"\u001b[39m\u001b[38;5;124m.hdf5\u001b[39m\u001b[38;5;124m\"\u001b[39m, \u001b[38;5;124m\"\u001b[39m\u001b[38;5;124m.keras\u001b[39m\u001b[38;5;124m\"\u001b[39m, \u001b[38;5;124m\"\u001b[39m\u001b[38;5;124m.tf\u001b[39m\u001b[38;5;124m\"\u001b[39m]\n",
      "\u001b[0;31mAttributeError\u001b[0m: 'str' object has no attribute 'suffix'"
     ]
    }
   ],
   "source": [
    "\n",
    "result, fig = long_prediction(datasets, patient_idx=9123, segment_idx=35, minute_idx=31, params=params, runner=runner, plotting=True, noise_filter=True)\n",
    "import plotly.io as pio\n",
    "import random\n",
    "\n",
    "\n",
    "pio.show(fig) # Display Plotly figure using show() method from plotly.io module"
   ]
  }
 ],
 "metadata": {
  "kernelspec": {
   "display_name": "DigitalHealth",
   "language": "python",
   "name": "python3"
  },
  "language_info": {
   "codemirror_mode": {
    "name": "ipython",
    "version": 3
   },
   "file_extension": ".py",
   "mimetype": "text/x-python",
   "name": "python",
   "nbconvert_exporter": "python",
   "pygments_lexer": "ipython3",
   "version": "3.11.8"
  }
 },
 "nbformat": 4,
 "nbformat_minor": 2
}
