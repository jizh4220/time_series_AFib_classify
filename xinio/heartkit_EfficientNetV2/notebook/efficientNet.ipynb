{
 "cells": [
  {
   "cell_type": "code",
   "execution_count": null,
   "metadata": {},
   "outputs": [],
   "source": [
    "EfficientNetV2(\n",
    "    inputs,\n",
    "    params=EfficientNetParams(\n",
    "        input_filters=24,\n",
    "        input_kernel_size=(1, 3),\n",
    "        input_strides=(1, 2),\n",
    "        blocks=blocks,\n",
    "        output_filters=0,\n",
    "        include_top=True,\n",
    "        dropout=0.0,\n",
    "        drop_connect_rate=0.0,\n",
    "    ),\n",
    "    num_classes=num_classes,\n",
    ")"
   ]
  }
 ],
 "metadata": {
  "language_info": {
   "name": "python"
  }
 },
 "nbformat": 4,
 "nbformat_minor": 2
}
